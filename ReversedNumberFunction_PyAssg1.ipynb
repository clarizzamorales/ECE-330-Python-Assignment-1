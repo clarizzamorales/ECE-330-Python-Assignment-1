{
 "cells": [
  {
   "cell_type": "code",
   "execution_count": 1,
   "metadata": {},
   "outputs": [],
   "source": [
    "#Clarizza Morales\n",
    "#ECE-330 Software Design\n",
    "#Python Assignment #1"
   ]
  },
  {
   "cell_type": "code",
   "execution_count": 3,
   "metadata": {},
   "outputs": [
    {
     "data": {
      "text/plain": [
       "-321"
      ]
     },
     "execution_count": 3,
     "metadata": {},
     "output_type": "execute_result"
    }
   ],
   "source": [
    "def ReverseDigits(numberToReverse):\n",
    "    number_to_string = str(abs(numberToReverse)) #convert number to reverse to a string value for easier reversion\n",
    "   # number_to_string = number_to_string.strip()\n",
    "    number_to_string = number_to_string[::-1] #reversing the string\n",
    "    reversedNum = int(number_to_string) #convert string back to integer value\n",
    "    \n",
    "    Bits64MAX = 9223372036854775807 #maximum integer range for a 64-bit architecture\n",
    "    Bits64MIN = -9223372036854775807 #minimum integer range for a 64-bit architecture\n",
    "    \n",
    "    NaN = \"NaN\"\n",
    "    if reversedNum >= Bits64MAX or reversedNum <= Bits64MIN: #condition if number overflows max or min values\n",
    "        return NaN \n",
    "        print(\"Number above or below 64-bit integer range\")\n",
    "    elif numberToReverse < 0: \n",
    "        return -1 * reversedNum #return a negative number if user's num is negative\n",
    "    else:\n",
    "        return reversedNum\n",
    "\n",
    "\n",
    "\n",
    "ReverseDigits(123)\n",
    "ReverseDigits(-123)"
   ]
  },
  {
   "cell_type": "code",
   "execution_count": null,
   "metadata": {},
   "outputs": [],
   "source": []
  }
 ],
 "metadata": {
  "kernelspec": {
   "display_name": "Python 3",
   "language": "python",
   "name": "python3"
  },
  "language_info": {
   "codemirror_mode": {
    "name": "ipython",
    "version": 3
   },
   "file_extension": ".py",
   "mimetype": "text/x-python",
   "name": "python",
   "nbconvert_exporter": "python",
   "pygments_lexer": "ipython3",
   "version": "3.8.5"
  }
 },
 "nbformat": 4,
 "nbformat_minor": 4
}
